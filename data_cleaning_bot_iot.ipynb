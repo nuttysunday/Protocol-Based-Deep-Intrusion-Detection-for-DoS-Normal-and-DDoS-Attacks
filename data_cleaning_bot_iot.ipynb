{
 "cells": [
  {
   "cell_type": "code",
   "execution_count": 1,
   "id": "e5958f6f",
   "metadata": {},
   "outputs": [],
   "source": [
    "#imports\n",
    "import pandas as pd\n",
    "import numpy as np"
   ]
  },
  {
   "cell_type": "code",
   "execution_count": 2,
   "id": "b56a5564",
   "metadata": {},
   "outputs": [
    {
     "name": "stderr",
     "output_type": "stream",
     "text": [
      "C:\\Users\\shiva\\AppData\\Local\\Temp\\ipykernel_20080\\3643078548.py:2: DtypeWarning: Columns (7,9) have mixed types. Specify dtype option on import or set low_memory=False.\n",
      "  df = pd.concat(\n",
      "C:\\Users\\shiva\\AppData\\Local\\Temp\\ipykernel_20080\\3643078548.py:2: DtypeWarning: Columns (7,9) have mixed types. Specify dtype option on import or set low_memory=False.\n",
      "  df = pd.concat(\n",
      "C:\\Users\\shiva\\AppData\\Local\\Temp\\ipykernel_20080\\3643078548.py:2: DtypeWarning: Columns (7,9) have mixed types. Specify dtype option on import or set low_memory=False.\n",
      "  df = pd.concat(\n",
      "C:\\Users\\shiva\\AppData\\Local\\Temp\\ipykernel_20080\\3643078548.py:2: DtypeWarning: Columns (7,9) have mixed types. Specify dtype option on import or set low_memory=False.\n",
      "  df = pd.concat(\n"
     ]
    }
   ],
   "source": [
    "#merging all the csv's\n",
    "df = pd.concat(\n",
    "    map(pd.read_csv, \n",
    "        ['dataset/Bot-IoT/UNSW_2018_IoT_Botnet_Full5pc_1.csv',\n",
    "         'dataset/Bot-IoT/UNSW_2018_IoT_Botnet_Full5pc_2.csv',\n",
    "         'dataset/Bot-IoT/UNSW_2018_IoT_Botnet_Full5pc_3.csv',\n",
    "         'dataset/Bot-IoT/UNSW_2018_IoT_Botnet_Full5pc_4.csv']), \n",
    "    ignore_index=True)"
   ]
  },
  {
   "cell_type": "code",
   "execution_count": 3,
   "id": "63e26554",
   "metadata": {},
   "outputs": [],
   "source": [
    "#consider state srate drate later\n",
    "df = df[['spkts','dpkts','sbytes','dbytes','dur','proto','category']]"
   ]
  },
  {
   "cell_type": "code",
   "execution_count": 4,
   "id": "494f9d30",
   "metadata": {},
   "outputs": [
    {
     "data": {
      "text/html": [
       "<div>\n",
       "<style scoped>\n",
       "    .dataframe tbody tr th:only-of-type {\n",
       "        vertical-align: middle;\n",
       "    }\n",
       "\n",
       "    .dataframe tbody tr th {\n",
       "        vertical-align: top;\n",
       "    }\n",
       "\n",
       "    .dataframe thead th {\n",
       "        text-align: right;\n",
       "    }\n",
       "</style>\n",
       "<table border=\"1\" class=\"dataframe\">\n",
       "  <thead>\n",
       "    <tr style=\"text-align: right;\">\n",
       "      <th></th>\n",
       "      <th>spkts</th>\n",
       "      <th>dpkts</th>\n",
       "      <th>sbytes</th>\n",
       "      <th>dbytes</th>\n",
       "      <th>dur</th>\n",
       "      <th>proto</th>\n",
       "      <th>category</th>\n",
       "    </tr>\n",
       "  </thead>\n",
       "  <tbody>\n",
       "    <tr>\n",
       "      <th>0</th>\n",
       "      <td>5</td>\n",
       "      <td>3</td>\n",
       "      <td>650</td>\n",
       "      <td>1330</td>\n",
       "      <td>7.056393</td>\n",
       "      <td>tcp</td>\n",
       "      <td>DoS</td>\n",
       "    </tr>\n",
       "    <tr>\n",
       "      <th>1</th>\n",
       "      <td>1</td>\n",
       "      <td>1</td>\n",
       "      <td>60</td>\n",
       "      <td>60</td>\n",
       "      <td>0.000131</td>\n",
       "      <td>arp</td>\n",
       "      <td>DoS</td>\n",
       "    </tr>\n",
       "    <tr>\n",
       "      <th>2</th>\n",
       "      <td>5</td>\n",
       "      <td>3</td>\n",
       "      <td>796</td>\n",
       "      <td>1330</td>\n",
       "      <td>7.047852</td>\n",
       "      <td>tcp</td>\n",
       "      <td>DoS</td>\n",
       "    </tr>\n",
       "    <tr>\n",
       "      <th>3</th>\n",
       "      <td>5</td>\n",
       "      <td>3</td>\n",
       "      <td>694</td>\n",
       "      <td>1330</td>\n",
       "      <td>7.047592</td>\n",
       "      <td>tcp</td>\n",
       "      <td>DoS</td>\n",
       "    </tr>\n",
       "    <tr>\n",
       "      <th>4</th>\n",
       "      <td>5</td>\n",
       "      <td>3</td>\n",
       "      <td>989</td>\n",
       "      <td>1330</td>\n",
       "      <td>7.046841</td>\n",
       "      <td>tcp</td>\n",
       "      <td>DoS</td>\n",
       "    </tr>\n",
       "  </tbody>\n",
       "</table>\n",
       "</div>"
      ],
      "text/plain": [
       "   spkts  dpkts  sbytes  dbytes       dur proto category\n",
       "0      5      3     650    1330  7.056393   tcp      DoS\n",
       "1      1      1      60      60  0.000131   arp      DoS\n",
       "2      5      3     796    1330  7.047852   tcp      DoS\n",
       "3      5      3     694    1330  7.047592   tcp      DoS\n",
       "4      5      3     989    1330  7.046841   tcp      DoS"
      ]
     },
     "execution_count": 4,
     "metadata": {},
     "output_type": "execute_result"
    }
   ],
   "source": [
    "df.head()"
   ]
  },
  {
   "cell_type": "code",
   "execution_count": 5,
   "id": "6ab79749",
   "metadata": {},
   "outputs": [
    {
     "data": {
      "text/plain": [
       "udp          1996437\n",
       "tcp          1662812\n",
       "icmp            9052\n",
       "arp              213\n",
       "ipv6-icmp          8\n",
       "Name: proto, dtype: int64"
      ]
     },
     "execution_count": 5,
     "metadata": {},
     "output_type": "execute_result"
    }
   ],
   "source": [
    "df['proto'].value_counts()"
   ]
  },
  {
   "cell_type": "code",
   "execution_count": 6,
   "id": "34a6e750",
   "metadata": {},
   "outputs": [
    {
     "data": {
      "text/plain": [
       "0.9974722790268125"
      ]
     },
     "execution_count": 6,
     "metadata": {},
     "output_type": "execute_result"
    }
   ],
   "source": [
    "(1996437+1662812)/3668522 "
   ]
  },
  {
   "cell_type": "code",
   "execution_count": 7,
   "id": "3197d78e",
   "metadata": {},
   "outputs": [],
   "source": [
    "#we only take tcp and udp as by removing other columns we are only rejecting 1% of the data\n",
    "df = df[(df['proto']=='udp') | (df['proto']=='tcp')]"
   ]
  },
  {
   "cell_type": "code",
   "execution_count": 8,
   "id": "ea064007",
   "metadata": {},
   "outputs": [],
   "source": [
    "#replacing udp with 0 and tcp with 1\n",
    "df['proto'] = np.where(df['proto'] == 'udp', 0, 1)"
   ]
  },
  {
   "cell_type": "code",
   "execution_count": 9,
   "id": "3c578931",
   "metadata": {},
   "outputs": [
    {
     "data": {
      "text/plain": [
       "DDoS              1926573\n",
       "DoS               1650197\n",
       "Reconnaissance      81982\n",
       "Normal                422\n",
       "Theft                  75\n",
       "Name: category, dtype: int64"
      ]
     },
     "execution_count": 9,
     "metadata": {},
     "output_type": "execute_result"
    }
   ],
   "source": [
    "df['category'].value_counts()"
   ]
  },
  {
   "cell_type": "code",
   "execution_count": 10,
   "id": "6d6b1aec",
   "metadata": {},
   "outputs": [],
   "source": [
    "#we only need  attack category of dos and ddos type\n",
    "df = df[(df['category']=='DDoS') | (df['category']=='DoS')]"
   ]
  },
  {
   "cell_type": "code",
   "execution_count": 11,
   "id": "053116d1",
   "metadata": {},
   "outputs": [
    {
     "data": {
      "text/html": [
       "<div>\n",
       "<style scoped>\n",
       "    .dataframe tbody tr th:only-of-type {\n",
       "        vertical-align: middle;\n",
       "    }\n",
       "\n",
       "    .dataframe tbody tr th {\n",
       "        vertical-align: top;\n",
       "    }\n",
       "\n",
       "    .dataframe thead th {\n",
       "        text-align: right;\n",
       "    }\n",
       "</style>\n",
       "<table border=\"1\" class=\"dataframe\">\n",
       "  <thead>\n",
       "    <tr style=\"text-align: right;\">\n",
       "      <th></th>\n",
       "      <th>spkts</th>\n",
       "      <th>dpkts</th>\n",
       "      <th>sbytes</th>\n",
       "      <th>dbytes</th>\n",
       "      <th>dur</th>\n",
       "      <th>proto</th>\n",
       "      <th>category</th>\n",
       "    </tr>\n",
       "  </thead>\n",
       "  <tbody>\n",
       "    <tr>\n",
       "      <th>0</th>\n",
       "      <td>5</td>\n",
       "      <td>3</td>\n",
       "      <td>650</td>\n",
       "      <td>1330</td>\n",
       "      <td>7.056393</td>\n",
       "      <td>1</td>\n",
       "      <td>DoS</td>\n",
       "    </tr>\n",
       "    <tr>\n",
       "      <th>2</th>\n",
       "      <td>5</td>\n",
       "      <td>3</td>\n",
       "      <td>796</td>\n",
       "      <td>1330</td>\n",
       "      <td>7.047852</td>\n",
       "      <td>1</td>\n",
       "      <td>DoS</td>\n",
       "    </tr>\n",
       "    <tr>\n",
       "      <th>3</th>\n",
       "      <td>5</td>\n",
       "      <td>3</td>\n",
       "      <td>694</td>\n",
       "      <td>1330</td>\n",
       "      <td>7.047592</td>\n",
       "      <td>1</td>\n",
       "      <td>DoS</td>\n",
       "    </tr>\n",
       "    <tr>\n",
       "      <th>4</th>\n",
       "      <td>5</td>\n",
       "      <td>3</td>\n",
       "      <td>989</td>\n",
       "      <td>1330</td>\n",
       "      <td>7.046841</td>\n",
       "      <td>1</td>\n",
       "      <td>DoS</td>\n",
       "    </tr>\n",
       "    <tr>\n",
       "      <th>5</th>\n",
       "      <td>5</td>\n",
       "      <td>3</td>\n",
       "      <td>653</td>\n",
       "      <td>1330</td>\n",
       "      <td>7.046596</td>\n",
       "      <td>1</td>\n",
       "      <td>DoS</td>\n",
       "    </tr>\n",
       "    <tr>\n",
       "      <th>...</th>\n",
       "      <td>...</td>\n",
       "      <td>...</td>\n",
       "      <td>...</td>\n",
       "      <td>...</td>\n",
       "      <td>...</td>\n",
       "      <td>...</td>\n",
       "      <td>...</td>\n",
       "    </tr>\n",
       "    <tr>\n",
       "      <th>3576879</th>\n",
       "      <td>8</td>\n",
       "      <td>0</td>\n",
       "      <td>480</td>\n",
       "      <td>0</td>\n",
       "      <td>14.869558</td>\n",
       "      <td>0</td>\n",
       "      <td>DDoS</td>\n",
       "    </tr>\n",
       "    <tr>\n",
       "      <th>3576880</th>\n",
       "      <td>8</td>\n",
       "      <td>0</td>\n",
       "      <td>480</td>\n",
       "      <td>0</td>\n",
       "      <td>14.869558</td>\n",
       "      <td>0</td>\n",
       "      <td>DDoS</td>\n",
       "    </tr>\n",
       "    <tr>\n",
       "      <th>3576881</th>\n",
       "      <td>8</td>\n",
       "      <td>0</td>\n",
       "      <td>480</td>\n",
       "      <td>0</td>\n",
       "      <td>14.869558</td>\n",
       "      <td>0</td>\n",
       "      <td>DDoS</td>\n",
       "    </tr>\n",
       "    <tr>\n",
       "      <th>3576882</th>\n",
       "      <td>8</td>\n",
       "      <td>0</td>\n",
       "      <td>480</td>\n",
       "      <td>0</td>\n",
       "      <td>14.869558</td>\n",
       "      <td>0</td>\n",
       "      <td>DDoS</td>\n",
       "    </tr>\n",
       "    <tr>\n",
       "      <th>3576883</th>\n",
       "      <td>8</td>\n",
       "      <td>0</td>\n",
       "      <td>480</td>\n",
       "      <td>0</td>\n",
       "      <td>14.869558</td>\n",
       "      <td>0</td>\n",
       "      <td>DDoS</td>\n",
       "    </tr>\n",
       "  </tbody>\n",
       "</table>\n",
       "<p>3576770 rows × 7 columns</p>\n",
       "</div>"
      ],
      "text/plain": [
       "         spkts  dpkts  sbytes  dbytes        dur  proto category\n",
       "0            5      3     650    1330   7.056393      1      DoS\n",
       "2            5      3     796    1330   7.047852      1      DoS\n",
       "3            5      3     694    1330   7.047592      1      DoS\n",
       "4            5      3     989    1330   7.046841      1      DoS\n",
       "5            5      3     653    1330   7.046596      1      DoS\n",
       "...        ...    ...     ...     ...        ...    ...      ...\n",
       "3576879      8      0     480       0  14.869558      0     DDoS\n",
       "3576880      8      0     480       0  14.869558      0     DDoS\n",
       "3576881      8      0     480       0  14.869558      0     DDoS\n",
       "3576882      8      0     480       0  14.869558      0     DDoS\n",
       "3576883      8      0     480       0  14.869558      0     DDoS\n",
       "\n",
       "[3576770 rows x 7 columns]"
      ]
     },
     "execution_count": 11,
     "metadata": {},
     "output_type": "execute_result"
    }
   ],
   "source": [
    "df"
   ]
  },
  {
   "cell_type": "code",
   "execution_count": 12,
   "id": "20cb0f9a",
   "metadata": {},
   "outputs": [],
   "source": [
    "df_dos = df[df['category'] == 'DoS']\n",
    "df_dos_train = df_dos.iloc[:1600000]\n",
    "df_dos_test = df_dos.iloc[1641197:]"
   ]
  },
  {
   "cell_type": "code",
   "execution_count": 13,
   "id": "238f2fb9",
   "metadata": {},
   "outputs": [],
   "source": [
    "df_dos_train.to_csv('dataset/cleaned_dataset/train/bot_iot_dos.csv',index=False)\n",
    "df_dos_test.to_csv('dataset/cleaned_dataset/test/bot_iot_dos.csv',index=False)"
   ]
  },
  {
   "cell_type": "code",
   "execution_count": 14,
   "id": "dec997b0",
   "metadata": {},
   "outputs": [],
   "source": [
    "df_ddos = df[df['category'] == 'DDoS']\n",
    "df_ddos.reset_index(drop= True,inplace = True)"
   ]
  },
  {
   "cell_type": "code",
   "execution_count": 15,
   "id": "0d6ca9d6",
   "metadata": {},
   "outputs": [
    {
     "data": {
      "text/html": [
       "<div>\n",
       "<style scoped>\n",
       "    .dataframe tbody tr th:only-of-type {\n",
       "        vertical-align: middle;\n",
       "    }\n",
       "\n",
       "    .dataframe tbody tr th {\n",
       "        vertical-align: top;\n",
       "    }\n",
       "\n",
       "    .dataframe thead th {\n",
       "        text-align: right;\n",
       "    }\n",
       "</style>\n",
       "<table border=\"1\" class=\"dataframe\">\n",
       "  <thead>\n",
       "    <tr style=\"text-align: right;\">\n",
       "      <th></th>\n",
       "      <th>spkts</th>\n",
       "      <th>dpkts</th>\n",
       "      <th>sbytes</th>\n",
       "      <th>dbytes</th>\n",
       "      <th>dur</th>\n",
       "      <th>proto</th>\n",
       "      <th>category</th>\n",
       "    </tr>\n",
       "  </thead>\n",
       "  <tbody>\n",
       "    <tr>\n",
       "      <th>0</th>\n",
       "      <td>6</td>\n",
       "      <td>4</td>\n",
       "      <td>963</td>\n",
       "      <td>766</td>\n",
       "      <td>6.406424</td>\n",
       "      <td>1</td>\n",
       "      <td>DDoS</td>\n",
       "    </tr>\n",
       "    <tr>\n",
       "      <th>1</th>\n",
       "      <td>6</td>\n",
       "      <td>4</td>\n",
       "      <td>838</td>\n",
       "      <td>766</td>\n",
       "      <td>6.405851</td>\n",
       "      <td>1</td>\n",
       "      <td>DDoS</td>\n",
       "    </tr>\n",
       "    <tr>\n",
       "      <th>2</th>\n",
       "      <td>5</td>\n",
       "      <td>3</td>\n",
       "      <td>1008</td>\n",
       "      <td>700</td>\n",
       "      <td>6.401038</td>\n",
       "      <td>1</td>\n",
       "      <td>DDoS</td>\n",
       "    </tr>\n",
       "    <tr>\n",
       "      <th>3</th>\n",
       "      <td>5</td>\n",
       "      <td>3</td>\n",
       "      <td>762</td>\n",
       "      <td>700</td>\n",
       "      <td>6.400703</td>\n",
       "      <td>1</td>\n",
       "      <td>DDoS</td>\n",
       "    </tr>\n",
       "    <tr>\n",
       "      <th>4</th>\n",
       "      <td>5</td>\n",
       "      <td>3</td>\n",
       "      <td>596</td>\n",
       "      <td>700</td>\n",
       "      <td>6.400472</td>\n",
       "      <td>1</td>\n",
       "      <td>DDoS</td>\n",
       "    </tr>\n",
       "    <tr>\n",
       "      <th>...</th>\n",
       "      <td>...</td>\n",
       "      <td>...</td>\n",
       "      <td>...</td>\n",
       "      <td>...</td>\n",
       "      <td>...</td>\n",
       "      <td>...</td>\n",
       "      <td>...</td>\n",
       "    </tr>\n",
       "    <tr>\n",
       "      <th>1926568</th>\n",
       "      <td>8</td>\n",
       "      <td>0</td>\n",
       "      <td>480</td>\n",
       "      <td>0</td>\n",
       "      <td>14.869558</td>\n",
       "      <td>0</td>\n",
       "      <td>DDoS</td>\n",
       "    </tr>\n",
       "    <tr>\n",
       "      <th>1926569</th>\n",
       "      <td>8</td>\n",
       "      <td>0</td>\n",
       "      <td>480</td>\n",
       "      <td>0</td>\n",
       "      <td>14.869558</td>\n",
       "      <td>0</td>\n",
       "      <td>DDoS</td>\n",
       "    </tr>\n",
       "    <tr>\n",
       "      <th>1926570</th>\n",
       "      <td>8</td>\n",
       "      <td>0</td>\n",
       "      <td>480</td>\n",
       "      <td>0</td>\n",
       "      <td>14.869558</td>\n",
       "      <td>0</td>\n",
       "      <td>DDoS</td>\n",
       "    </tr>\n",
       "    <tr>\n",
       "      <th>1926571</th>\n",
       "      <td>8</td>\n",
       "      <td>0</td>\n",
       "      <td>480</td>\n",
       "      <td>0</td>\n",
       "      <td>14.869558</td>\n",
       "      <td>0</td>\n",
       "      <td>DDoS</td>\n",
       "    </tr>\n",
       "    <tr>\n",
       "      <th>1926572</th>\n",
       "      <td>8</td>\n",
       "      <td>0</td>\n",
       "      <td>480</td>\n",
       "      <td>0</td>\n",
       "      <td>14.869558</td>\n",
       "      <td>0</td>\n",
       "      <td>DDoS</td>\n",
       "    </tr>\n",
       "  </tbody>\n",
       "</table>\n",
       "<p>1926573 rows × 7 columns</p>\n",
       "</div>"
      ],
      "text/plain": [
       "         spkts  dpkts  sbytes  dbytes        dur  proto category\n",
       "0            6      4     963     766   6.406424      1     DDoS\n",
       "1            6      4     838     766   6.405851      1     DDoS\n",
       "2            5      3    1008     700   6.401038      1     DDoS\n",
       "3            5      3     762     700   6.400703      1     DDoS\n",
       "4            5      3     596     700   6.400472      1     DDoS\n",
       "...        ...    ...     ...     ...        ...    ...      ...\n",
       "1926568      8      0     480       0  14.869558      0     DDoS\n",
       "1926569      8      0     480       0  14.869558      0     DDoS\n",
       "1926570      8      0     480       0  14.869558      0     DDoS\n",
       "1926571      8      0     480       0  14.869558      0     DDoS\n",
       "1926572      8      0     480       0  14.869558      0     DDoS\n",
       "\n",
       "[1926573 rows x 7 columns]"
      ]
     },
     "execution_count": 15,
     "metadata": {},
     "output_type": "execute_result"
    }
   ],
   "source": [
    "df_ddos"
   ]
  },
  {
   "cell_type": "code",
   "execution_count": 17,
   "id": "aae317bc",
   "metadata": {},
   "outputs": [],
   "source": [
    "df_ddos = df[df['category'] == 'DDoS']\n",
    "df_ddos.reset_index(drop= True,inplace = True)\n",
    "df_ddos_train = df_ddos.iloc[:1600000]\n",
    "df_ddos_test = df_ddos.iloc[1917572:]"
   ]
  },
  {
   "cell_type": "code",
   "execution_count": 18,
   "id": "61f5d28b",
   "metadata": {},
   "outputs": [],
   "source": [
    "df_ddos_train.to_csv('dataset/cleaned_dataset/train/bot_iot_ddos.csv',index=False)\n",
    "df_ddos_test.to_csv('dataset/cleaned_dataset/test/bot_iot_ddos.csv',index=False)"
   ]
  },
  {
   "cell_type": "code",
   "execution_count": null,
   "id": "bf76ef95",
   "metadata": {},
   "outputs": [],
   "source": []
  }
 ],
 "metadata": {
  "kernelspec": {
   "display_name": "Python 3 (ipykernel)",
   "language": "python",
   "name": "python3"
  },
  "language_info": {
   "codemirror_mode": {
    "name": "ipython",
    "version": 3
   },
   "file_extension": ".py",
   "mimetype": "text/x-python",
   "name": "python",
   "nbconvert_exporter": "python",
   "pygments_lexer": "ipython3",
   "version": "3.9.7"
  }
 },
 "nbformat": 4,
 "nbformat_minor": 5
}
