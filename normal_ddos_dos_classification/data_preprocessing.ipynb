{
 "cells": [
  {
   "cell_type": "code",
   "execution_count": 1,
   "id": "98125502",
   "metadata": {},
   "outputs": [
    {
     "name": "stderr",
     "output_type": "stream",
     "text": [
      "2022-04-12 20:25:56.898716: W tensorflow/stream_executor/platform/default/dso_loader.cc:64] Could not load dynamic library 'libcudart.so.11.0'; dlerror: libcudart.so.11.0: cannot open shared object file: No such file or directory\n",
      "2022-04-12 20:25:56.898737: I tensorflow/stream_executor/cuda/cudart_stub.cc:29] Ignore above cudart dlerror if you do not have a GPU set up on your machine.\n"
     ]
    }
   ],
   "source": [
    "import pandas as pd\n",
    "import numpy as np\n",
    "from sklearn.utils import shuffle\n",
    "from sklearn.preprocessing import StandardScaler\n",
    "from sklearn.preprocessing import MinMaxScaler\n",
    "import tensorflow as tf\n",
    "import matplotlib.pyplot as plt\n",
    "from sklearn import metrics\n",
    "import itertools\n",
    "from functions import *"
   ]
  },
  {
   "cell_type": "code",
   "execution_count": 2,
   "id": "0b37df5f",
   "metadata": {},
   "outputs": [],
   "source": [
    "df_unsw_normal = pd.read_csv('dataset/train/unsw_normal.csv')\n",
    "df_bot_dos = pd.read_csv('dataset/train/bot_iot_dos.csv')\n",
    "df_bot_ddos = pd.read_csv('dataset/train/bot_iot_ddos.csv')"
   ]
  },
  {
   "cell_type": "code",
   "execution_count": 3,
   "id": "b20a0512",
   "metadata": {},
   "outputs": [],
   "source": [
    "#ddos = 8 lakh samples\n",
    "#dos =  8 lakh samples\n",
    "#normal = 80 thousand samples"
   ]
  },
  {
   "cell_type": "code",
   "execution_count": 4,
   "id": "5cae2f86",
   "metadata": {},
   "outputs": [],
   "source": [
    "data = data_chunks_creater(df_unsw_normal,df_bot_dos,df_bot_ddos)"
   ]
  },
  {
   "cell_type": "code",
   "execution_count": 5,
   "id": "55ae8d5c",
   "metadata": {},
   "outputs": [],
   "source": [
    "class_names = ['DoS','Normal','DDoS']"
   ]
  },
  {
   "cell_type": "code",
   "execution_count": 6,
   "id": "3a5e99cd",
   "metadata": {},
   "outputs": [],
   "source": [
    "# label  Class\n",
    "# 0      DoS\n",
    "# 1      Normal\n",
    "# 2      DDoS"
   ]
  },
  {
   "cell_type": "code",
   "execution_count": null,
   "id": "cb88d5ba",
   "metadata": {},
   "outputs": [],
   "source": []
  },
  {
   "cell_type": "code",
   "execution_count": 7,
   "id": "5f2d6251",
   "metadata": {},
   "outputs": [],
   "source": [
    "x_label_data,y_label_data = data_preprocessing(data)"
   ]
  },
  {
   "cell_type": "code",
   "execution_count": 8,
   "id": "94cd9693",
   "metadata": {},
   "outputs": [
    {
     "data": {
      "text/html": [
       "<div>\n",
       "<style scoped>\n",
       "    .dataframe tbody tr th:only-of-type {\n",
       "        vertical-align: middle;\n",
       "    }\n",
       "\n",
       "    .dataframe tbody tr th {\n",
       "        vertical-align: top;\n",
       "    }\n",
       "\n",
       "    .dataframe thead th {\n",
       "        text-align: right;\n",
       "    }\n",
       "</style>\n",
       "<table border=\"1\" class=\"dataframe\">\n",
       "  <thead>\n",
       "    <tr style=\"text-align: right;\">\n",
       "      <th></th>\n",
       "      <th>spkts</th>\n",
       "      <th>dpkts</th>\n",
       "      <th>sbytes</th>\n",
       "      <th>dbytes</th>\n",
       "      <th>dur</th>\n",
       "      <th>proto</th>\n",
       "    </tr>\n",
       "  </thead>\n",
       "  <tbody>\n",
       "    <tr>\n",
       "      <th>0</th>\n",
       "      <td>0.001451</td>\n",
       "      <td>0.001166</td>\n",
       "      <td>0.000265</td>\n",
       "      <td>0.000079</td>\n",
       "      <td>0.000009</td>\n",
       "      <td>0.0</td>\n",
       "    </tr>\n",
       "    <tr>\n",
       "      <th>1</th>\n",
       "      <td>0.005806</td>\n",
       "      <td>0.000000</td>\n",
       "      <td>0.002106</td>\n",
       "      <td>0.000000</td>\n",
       "      <td>0.282246</td>\n",
       "      <td>1.0</td>\n",
       "    </tr>\n",
       "    <tr>\n",
       "      <th>2</th>\n",
       "      <td>0.004354</td>\n",
       "      <td>0.000000</td>\n",
       "      <td>0.001652</td>\n",
       "      <td>0.000000</td>\n",
       "      <td>0.273068</td>\n",
       "      <td>1.0</td>\n",
       "    </tr>\n",
       "    <tr>\n",
       "      <th>3</th>\n",
       "      <td>0.002903</td>\n",
       "      <td>0.000583</td>\n",
       "      <td>0.000920</td>\n",
       "      <td>0.000027</td>\n",
       "      <td>0.086757</td>\n",
       "      <td>1.0</td>\n",
       "    </tr>\n",
       "    <tr>\n",
       "      <th>4</th>\n",
       "      <td>0.004354</td>\n",
       "      <td>0.001166</td>\n",
       "      <td>0.001097</td>\n",
       "      <td>0.000053</td>\n",
       "      <td>0.216803</td>\n",
       "      <td>1.0</td>\n",
       "    </tr>\n",
       "    <tr>\n",
       "      <th>...</th>\n",
       "      <td>...</td>\n",
       "      <td>...</td>\n",
       "      <td>...</td>\n",
       "      <td>...</td>\n",
       "      <td>...</td>\n",
       "      <td>...</td>\n",
       "    </tr>\n",
       "    <tr>\n",
       "      <th>239995</th>\n",
       "      <td>0.001451</td>\n",
       "      <td>0.001166</td>\n",
       "      <td>0.000218</td>\n",
       "      <td>0.000072</td>\n",
       "      <td>0.000009</td>\n",
       "      <td>0.0</td>\n",
       "    </tr>\n",
       "    <tr>\n",
       "      <th>239996</th>\n",
       "      <td>0.015965</td>\n",
       "      <td>0.010490</td>\n",
       "      <td>0.004495</td>\n",
       "      <td>0.004520</td>\n",
       "      <td>0.008857</td>\n",
       "      <td>1.0</td>\n",
       "    </tr>\n",
       "    <tr>\n",
       "      <th>239997</th>\n",
       "      <td>0.004354</td>\n",
       "      <td>0.000000</td>\n",
       "      <td>0.001652</td>\n",
       "      <td>0.000000</td>\n",
       "      <td>0.254246</td>\n",
       "      <td>1.0</td>\n",
       "    </tr>\n",
       "    <tr>\n",
       "      <th>239998</th>\n",
       "      <td>0.002903</td>\n",
       "      <td>0.000000</td>\n",
       "      <td>0.001197</td>\n",
       "      <td>0.000000</td>\n",
       "      <td>0.127913</td>\n",
       "      <td>1.0</td>\n",
       "    </tr>\n",
       "    <tr>\n",
       "      <th>239999</th>\n",
       "      <td>0.001451</td>\n",
       "      <td>0.000000</td>\n",
       "      <td>0.000743</td>\n",
       "      <td>0.000000</td>\n",
       "      <td>0.083344</td>\n",
       "      <td>1.0</td>\n",
       "    </tr>\n",
       "  </tbody>\n",
       "</table>\n",
       "<p>240000 rows × 6 columns</p>\n",
       "</div>"
      ],
      "text/plain": [
       "           spkts     dpkts    sbytes    dbytes       dur  proto\n",
       "0       0.001451  0.001166  0.000265  0.000079  0.000009    0.0\n",
       "1       0.005806  0.000000  0.002106  0.000000  0.282246    1.0\n",
       "2       0.004354  0.000000  0.001652  0.000000  0.273068    1.0\n",
       "3       0.002903  0.000583  0.000920  0.000027  0.086757    1.0\n",
       "4       0.004354  0.001166  0.001097  0.000053  0.216803    1.0\n",
       "...          ...       ...       ...       ...       ...    ...\n",
       "239995  0.001451  0.001166  0.000218  0.000072  0.000009    0.0\n",
       "239996  0.015965  0.010490  0.004495  0.004520  0.008857    1.0\n",
       "239997  0.004354  0.000000  0.001652  0.000000  0.254246    1.0\n",
       "239998  0.002903  0.000000  0.001197  0.000000  0.127913    1.0\n",
       "239999  0.001451  0.000000  0.000743  0.000000  0.083344    1.0\n",
       "\n",
       "[240000 rows x 6 columns]"
      ]
     },
     "execution_count": 8,
     "metadata": {},
     "output_type": "execute_result"
    }
   ],
   "source": [
    "x_label_data[0]"
   ]
  },
  {
   "cell_type": "code",
   "execution_count": 9,
   "id": "ef67ffc7",
   "metadata": {},
   "outputs": [
    {
     "name": "stderr",
     "output_type": "stream",
     "text": [
      "2022-04-12 20:26:10.775047: E tensorflow/stream_executor/cuda/cuda_driver.cc:271] failed call to cuInit: CUDA_ERROR_NO_DEVICE: no CUDA-capable device is detected\n",
      "2022-04-12 20:26:10.775080: I tensorflow/stream_executor/cuda/cuda_diagnostics.cc:156] kernel driver does not appear to be running on this host (suntop): /proc/driver/nvidia/version does not exist\n",
      "2022-04-12 20:26:10.775501: I tensorflow/core/platform/cpu_feature_guard.cc:151] This TensorFlow binary is optimized with oneAPI Deep Neural Network Library (oneDNN) to use the following CPU instructions in performance-critical operations:  AVX2 FMA\n",
      "To enable them in other operations, rebuild TensorFlow with the appropriate compiler flags.\n"
     ]
    }
   ],
   "source": [
    "    model = tf.keras.Sequential([\n",
    "    tf.keras.layers.Embedding(16, 6, input_length=6),\n",
    "    tf.keras.layers.LSTM(20,dropout=0.1,recurrent_dropout=0.3,activation='tanh', return_sequences=True),\n",
    "    tf.keras.layers.LSTM(20,dropout=0.1,recurrent_dropout=0.3,activation='tanh'),\n",
    "    tf.keras.layers.Dense(3, activation='softmax')\n",
    "])"
   ]
  },
  {
   "cell_type": "code",
   "execution_count": 10,
   "id": "58ced35f",
   "metadata": {},
   "outputs": [],
   "source": [
    "opt = tf.keras.optimizers.Adam(learning_rate=0.1)\n",
    "model.compile(optimizer=opt,\n",
    "              loss=tf.keras.losses.SparseCategoricalCrossentropy(),\n",
    "              metrics=['accuracy'])"
   ]
  },
  {
   "cell_type": "code",
   "execution_count": 11,
   "id": "ba1f8ad9",
   "metadata": {},
   "outputs": [],
   "source": [
    "model.compile(optimizer='adam',loss=tf.keras.losses.SparseCategoricalCrossentropy(),metrics=['accuracy'])"
   ]
  },
  {
   "cell_type": "code",
   "execution_count": 12,
   "id": "e8358d04",
   "metadata": {},
   "outputs": [
    {
     "name": "stdout",
     "output_type": "stream",
     "text": [
      "Epoch 1/10\n",
      "1875/1875 [==============================] - 14s 6ms/step - loss: 1.0097 - accuracy: 0.4121\n",
      "Epoch 2/10\n",
      "1875/1875 [==============================] - 10s 5ms/step - loss: 0.9969 - accuracy: 0.4195\n",
      "Epoch 3/10\n",
      "1875/1875 [==============================] - 10s 6ms/step - loss: 0.9967 - accuracy: 0.4193\n",
      "Epoch 4/10\n",
      "1875/1875 [==============================] - 11s 6ms/step - loss: 0.9966 - accuracy: 0.4188\n",
      "Epoch 5/10\n",
      "1875/1875 [==============================] - 10s 6ms/step - loss: 0.9966 - accuracy: 0.4188\n",
      "Epoch 6/10\n",
      "1875/1875 [==============================] - 10s 5ms/step - loss: 0.9966 - accuracy: 0.4191\n",
      "Epoch 7/10\n",
      "1875/1875 [==============================] - 10s 6ms/step - loss: 0.9966 - accuracy: 0.4189\n",
      "Epoch 8/10\n",
      "1875/1875 [==============================] - 10s 6ms/step - loss: 0.9966 - accuracy: 0.4185\n",
      "Epoch 9/10\n",
      "1875/1875 [==============================] - 10s 6ms/step - loss: 0.9966 - accuracy: 0.4191\n",
      "Epoch 10/10\n",
      "1875/1875 [==============================] - 11s 6ms/step - loss: 0.9966 - accuracy: 0.4200\n"
     ]
    },
    {
     "data": {
      "text/plain": [
       "<keras.callbacks.History at 0x7f784e6c4190>"
      ]
     },
     "execution_count": 12,
     "metadata": {},
     "output_type": "execute_result"
    }
   ],
   "source": [
    "model.fit(x_label_data[0], y_label_data[0],batch_size=128, epochs=10)"
   ]
  },
  {
   "cell_type": "code",
   "execution_count": 13,
   "id": "82855a7a",
   "metadata": {},
   "outputs": [],
   "source": [
    "predictions = model.predict(x_label_data[5])"
   ]
  },
  {
   "cell_type": "code",
   "execution_count": 14,
   "id": "db4064d7",
   "metadata": {},
   "outputs": [],
   "source": [
    "y_pred = np.argmax(predictions, axis=-1)"
   ]
  },
  {
   "cell_type": "code",
   "execution_count": 15,
   "id": "4bed80f7",
   "metadata": {},
   "outputs": [
    {
     "name": "stdout",
     "output_type": "stream",
     "text": [
      "accuracy:   0.419\n",
      "Confusion matrix, without normalization\n"
     ]
    },
    {
     "data": {
      "image/png": "[encoded data removed]",
      "text/plain": [
       "<Figure size 432x288 with 2 Axes>"
      ]
     },
     "metadata": {
      "needs_background": "light"
     },
     "output_type": "display_data"
    }
   ],
   "source": [
    "y_test = y_label_data[5]\n",
    "score = metrics.accuracy_score(y_pred,y_test)\n",
    "print(\"accuracy:   %0.3f\" % score)\n",
    "\n",
    "cm = metrics.confusion_matrix(y_pred,y_test)\n",
    "plot_confusion_matrix(cm, classes=['Ddos', 'dos','Normal'])"
   ]
  },
  {
   "cell_type": "code",
   "execution_count": null,
   "id": "827d79de",
   "metadata": {},
   "outputs": [],
   "source": []
  }
 ],
 "metadata": {
  "kernelspec": {
   "display_name": "Python 3 (ipykernel)",
   "language": "python",
   "name": "python3"
  },
  "language_info": {
   "codemirror_mode": {
    "name": "ipython",
    "version": 3
   },
   "file_extension": ".py",
   "mimetype": "text/x-python",
   "name": "python",
   "nbconvert_exporter": "python",
   "pygments_lexer": "ipython3",
   "version": "3.9.12"
  }
 },
 "nbformat": 4,
 "nbformat_minor": 5
}
