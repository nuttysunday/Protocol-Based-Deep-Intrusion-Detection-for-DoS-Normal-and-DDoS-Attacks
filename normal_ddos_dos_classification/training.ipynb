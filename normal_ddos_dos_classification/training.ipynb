{
 "cells": [
  {
   "cell_type": "code",
   "execution_count": 1,
   "id": "98125502",
   "metadata": {},
   "outputs": [
    {
     "name": "stderr",
     "output_type": "stream",
     "text": [
      "2022-04-14 12:14:38.793572: W tensorflow/stream_executor/platform/default/dso_loader.cc:64] Could not load dynamic library 'libcudart.so.11.0'; dlerror: libcudart.so.11.0: cannot open shared object file: No such file or directory\n",
      "2022-04-14 12:14:38.793592: I tensorflow/stream_executor/cuda/cudart_stub.cc:29] Ignore above cudart dlerror if you do not have a GPU set up on your machine.\n"
     ]
    }
   ],
   "source": [
    "#imports\n",
    "import pandas as pd\n",
    "import numpy as np\n",
    "from sklearn.utils import shuffle\n",
    "from sklearn.preprocessing import StandardScaler\n",
    "from sklearn.preprocessing import MinMaxScaler\n",
    "import tensorflow as tf\n",
    "from sklearn import metrics\n",
    "from custom_functions import *"
   ]
  },
  {
   "cell_type": "code",
   "execution_count": 16,
   "id": "0b37df5f",
   "metadata": {},
   "outputs": [],
   "source": [
    "#reading csv's\n",
    "df_unsw_normal = pd.read_csv('cleaned_dataset/train/unsw_normal.csv')\n",
    "df_bot_dos = pd.read_csv('cleaned_dataset/train/bot_iot_dos.csv')\n",
    "df_bot_ddos = pd.read_csv('cleaned_dataset/train/bot_iot_ddos.csv')\n"
   ]
  },
  {
   "cell_type": "code",
   "execution_count": 4,
   "id": "b20a0512",
   "metadata": {},
   "outputs": [],
   "source": [
    "#understand dataset volums\n",
    "#ddos = 16 lakh samples\n",
    "#dos =  16 lakh samples\n",
    "#normal = 1.6 lakh samples"
   ]
  },
  {
   "cell_type": "code",
   "execution_count": 5,
   "id": "5cae2f86",
   "metadata": {},
   "outputs": [],
   "source": [
    "#data_chunk_creater: A function which creates the chunck of the dataset\n",
    "data = data_chunks_creater(df_unsw_normal,df_bot_dos,df_bot_ddos)"
   ]
  },
  {
   "cell_type": "code",
   "execution_count": 6,
   "id": "55ae8d5c",
   "metadata": {},
   "outputs": [],
   "source": [
    "class_names = ['DoS','Normal','DDoS']"
   ]
  },
  {
   "cell_type": "code",
   "execution_count": 7,
   "id": "3a5e99cd",
   "metadata": {},
   "outputs": [],
   "source": [
    "# label  Class\n",
    "# 0      DoS\n",
    "# 1      Normal\n",
    "# 2      DDoS"
   ]
  },
  {
   "cell_type": "code",
   "execution_count": 8,
   "id": "5f2d6251",
   "metadata": {},
   "outputs": [],
   "source": [
    "#data_preprocessing: A function which normalizes the datam shuffles the data and splits X,y labels\n",
    "x_label_data,y_label_data = data_preprocessing(data)"
   ]
  },
  {
   "cell_type": "code",
   "execution_count": 9,
   "id": "ef67ffc7",
   "metadata": {},
   "outputs": [
    {
     "name": "stderr",
     "output_type": "stream",
     "text": [
      "2022-04-14 12:15:07.199831: E tensorflow/stream_executor/cuda/cuda_driver.cc:271] failed call to cuInit: CUDA_ERROR_NO_DEVICE: no CUDA-capable device is detected\n",
      "2022-04-14 12:15:07.199859: I tensorflow/stream_executor/cuda/cuda_diagnostics.cc:156] kernel driver does not appear to be running on this host (suntop): /proc/driver/nvidia/version does not exist\n",
      "2022-04-14 12:15:07.200459: I tensorflow/core/platform/cpu_feature_guard.cc:151] This TensorFlow binary is optimized with oneAPI Deep Neural Network Library (oneDNN) to use the following CPU instructions in performance-critical operations:  AVX2 FMA\n",
      "To enable them in other operations, rebuild TensorFlow with the appropriate compiler flags.\n"
     ]
    }
   ],
   "source": [
    "#Model Architecture\n",
    "model = tf.keras.Sequential([\n",
    "    tf.keras.layers.Embedding(16, 6, input_length=13),\n",
    "    tf.keras.layers.LSTM(20,dropout=0.1,recurrent_dropout=0.3,activation='tanh',recurrent_activation='sigmoid', return_sequences=True),\n",
    "    tf.keras.layers.LSTM(20,dropout=0.1,recurrent_dropout=0.3,activation='tanh',recurrent_activation='sigmoid'),\n",
    "    tf.keras.layers.Dense(3, activation='softmax')\n",
    "])"
   ]
  },
  {
   "cell_type": "code",
   "execution_count": 10,
   "id": "ba1f8ad9",
   "metadata": {},
   "outputs": [],
   "source": [
    "opt = tf.keras.optimizers.Adam(learning_rate=0.1)\n",
    "model.compile(optimizer='adam',loss=tf.keras.losses.SparseCategoricalCrossentropy(),metrics=['accuracy'])"
   ]
  },
  {
   "cell_type": "code",
   "execution_count": 11,
   "id": "320de2d8",
   "metadata": {},
   "outputs": [
    {
     "name": "stdout",
     "output_type": "stream",
     "text": [
      "Model: \"sequential\"\n",
      "_________________________________________________________________\n",
      " Layer (type)                Output Shape              Param #   \n",
      "=================================================================\n",
      " embedding (Embedding)       (None, 13, 6)             96        \n",
      "                                                                 \n",
      " lstm (LSTM)                 (None, 13, 20)            2160      \n",
      "                                                                 \n",
      " lstm_1 (LSTM)               (None, 20)                3280      \n",
      "                                                                 \n",
      " dense (Dense)               (None, 3)                 63        \n",
      "                                                                 \n",
      "=================================================================\n",
      "Total params: 5,599\n",
      "Trainable params: 5,599\n",
      "Non-trainable params: 0\n",
      "_________________________________________________________________\n"
     ]
    }
   ],
   "source": [
    "model.summary()"
   ]
  },
  {
   "cell_type": "code",
   "execution_count": 12,
   "id": "ba6af9a7",
   "metadata": {},
   "outputs": [
    {
     "name": "stdout",
     "output_type": "stream",
     "text": [
      "1\n",
      "Epoch 1/6\n",
      "3750/3750 [==============================] - 36s 9ms/step - loss: 0.4785 - accuracy: 0.6614\n",
      "Epoch 2/6\n",
      "3750/3750 [==============================] - 34s 9ms/step - loss: 0.4627 - accuracy: 0.6666\n",
      "Epoch 3/6\n",
      "3750/3750 [==============================] - 37s 10ms/step - loss: 0.4625 - accuracy: 0.6667\n",
      "Epoch 4/6\n",
      "3750/3750 [==============================] - 36s 10ms/step - loss: 0.4624 - accuracy: 0.6667\n",
      "Epoch 5/6\n",
      "3750/3750 [==============================] - 36s 10ms/step - loss: 0.4623 - accuracy: 0.6665\n",
      "Epoch 6/6\n",
      "3750/3750 [==============================] - 37s 10ms/step - loss: 0.4623 - accuracy: 0.6664\n"
     ]
    },
    {
     "name": "stderr",
     "output_type": "stream",
     "text": [
      "2022-04-14 12:18:44.824400: W tensorflow/python/util/util.cc:368] Sets are not currently considered sequences, but this may change in the future, so consider avoiding using them.\n"
     ]
    },
    {
     "name": "stdout",
     "output_type": "stream",
     "text": [
      "INFO:tensorflow:Assets written to: my_model/assets\n"
     ]
    },
    {
     "name": "stderr",
     "output_type": "stream",
     "text": [
      "WARNING:absl:<keras.layers.recurrent.LSTMCell object at 0x7f28e1ef6a00> has the same name 'LSTMCell' as a built-in Keras object. Consider renaming <class 'keras.layers.recurrent.LSTMCell'> to avoid naming conflicts when loading with `tf.keras.models.load_model`. If renaming is not possible, pass the object in the `custom_objects` parameter of the load function.\n",
      "WARNING:absl:<keras.layers.recurrent.LSTMCell object at 0x7f28e1649730> has the same name 'LSTMCell' as a built-in Keras object. Consider renaming <class 'keras.layers.recurrent.LSTMCell'> to avoid naming conflicts when loading with `tf.keras.models.load_model`. If renaming is not possible, pass the object in the `custom_objects` parameter of the load function.\n"
     ]
    },
    {
     "name": "stdout",
     "output_type": "stream",
     "text": [
      "2\n",
      "Epoch 1/6\n",
      "3750/3750 [==============================] - 43s 11ms/step - loss: 0.5301 - accuracy: 0.7411\n",
      "Epoch 2/6\n",
      "3750/3750 [==============================] - 39s 10ms/step - loss: 0.3790 - accuracy: 0.7733\n",
      "Epoch 3/6\n",
      "3750/3750 [==============================] - 39s 10ms/step - loss: 0.3785 - accuracy: 0.7734\n",
      "Epoch 4/6\n",
      "3750/3750 [==============================] - 38s 10ms/step - loss: 0.3783 - accuracy: 0.7734\n",
      "Epoch 5/6\n",
      "3750/3750 [==============================] - 39s 10ms/step - loss: 0.3782 - accuracy: 0.7734\n",
      "Epoch 6/6\n",
      "3750/3750 [==============================] - 40s 11ms/step - loss: 0.3782 - accuracy: 0.7734\n",
      "INFO:tensorflow:Assets written to: my_model/assets\n"
     ]
    },
    {
     "name": "stderr",
     "output_type": "stream",
     "text": [
      "INFO:tensorflow:Assets written to: my_model/assets\n",
      "WARNING:absl:<keras.layers.recurrent.LSTMCell object at 0x7f28bc533160> has the same name 'LSTMCell' as a built-in Keras object. Consider renaming <class 'keras.layers.recurrent.LSTMCell'> to avoid naming conflicts when loading with `tf.keras.models.load_model`. If renaming is not possible, pass the object in the `custom_objects` parameter of the load function.\n",
      "WARNING:absl:<keras.layers.recurrent.LSTMCell object at 0x7f28bc5222e0> has the same name 'LSTMCell' as a built-in Keras object. Consider renaming <class 'keras.layers.recurrent.LSTMCell'> to avoid naming conflicts when loading with `tf.keras.models.load_model`. If renaming is not possible, pass the object in the `custom_objects` parameter of the load function.\n"
     ]
    },
    {
     "name": "stdout",
     "output_type": "stream",
     "text": [
      "3\n",
      "Epoch 1/6\n",
      "3750/3750 [==============================] - 42s 10ms/step - loss: 0.1062 - accuracy: 0.9871\n",
      "Epoch 2/6\n",
      "3750/3750 [==============================] - 39s 10ms/step - loss: 1.8833e-04 - accuracy: 1.0000\n",
      "Epoch 3/6\n",
      "3750/3750 [==============================] - 42s 11ms/step - loss: 7.2217e-05 - accuracy: 1.0000\n",
      "Epoch 4/6\n",
      "3750/3750 [==============================] - 39s 10ms/step - loss: 3.3593e-05 - accuracy: 1.0000\n",
      "Epoch 5/6\n",
      "3750/3750 [==============================] - 39s 10ms/step - loss: 3.0933e-05 - accuracy: 1.0000\n",
      "Epoch 6/6\n",
      "3750/3750 [==============================] - 37s 10ms/step - loss: 1.9794e-06 - accuracy: 1.0000\n",
      "INFO:tensorflow:Assets written to: my_model/assets\n"
     ]
    },
    {
     "name": "stderr",
     "output_type": "stream",
     "text": [
      "INFO:tensorflow:Assets written to: my_model/assets\n",
      "WARNING:absl:<keras.layers.recurrent.LSTMCell object at 0x7f28bc60cfa0> has the same name 'LSTMCell' as a built-in Keras object. Consider renaming <class 'keras.layers.recurrent.LSTMCell'> to avoid naming conflicts when loading with `tf.keras.models.load_model`. If renaming is not possible, pass the object in the `custom_objects` parameter of the load function.\n",
      "WARNING:absl:<keras.layers.recurrent.LSTMCell object at 0x7f28e0f093d0> has the same name 'LSTMCell' as a built-in Keras object. Consider renaming <class 'keras.layers.recurrent.LSTMCell'> to avoid naming conflicts when loading with `tf.keras.models.load_model`. If renaming is not possible, pass the object in the `custom_objects` parameter of the load function.\n"
     ]
    },
    {
     "name": "stdout",
     "output_type": "stream",
     "text": [
      "4\n",
      "Epoch 1/6\n",
      "3750/3750 [==============================] - 38s 10ms/step - loss: 0.2337 - accuracy: 0.9041\n",
      "Epoch 2/6\n",
      "3750/3750 [==============================] - 37s 10ms/step - loss: 0.2136 - accuracy: 0.9057\n",
      "Epoch 3/6\n",
      "3750/3750 [==============================] - 40s 11ms/step - loss: 0.2133 - accuracy: 0.9057\n",
      "Epoch 4/6\n",
      "3750/3750 [==============================] - 40s 11ms/step - loss: 0.2131 - accuracy: 0.9057\n",
      "Epoch 5/6\n",
      "3750/3750 [==============================] - 40s 11ms/step - loss: 0.2131 - accuracy: 0.9057\n",
      "Epoch 6/6\n",
      "3750/3750 [==============================] - 40s 11ms/step - loss: 0.2131 - accuracy: 0.9057\n",
      "INFO:tensorflow:Assets written to: my_model/assets\n"
     ]
    },
    {
     "name": "stderr",
     "output_type": "stream",
     "text": [
      "INFO:tensorflow:Assets written to: my_model/assets\n",
      "WARNING:absl:<keras.layers.recurrent.LSTMCell object at 0x7f28d0d9b610> has the same name 'LSTMCell' as a built-in Keras object. Consider renaming <class 'keras.layers.recurrent.LSTMCell'> to avoid naming conflicts when loading with `tf.keras.models.load_model`. If renaming is not possible, pass the object in the `custom_objects` parameter of the load function.\n",
      "WARNING:absl:<keras.layers.recurrent.LSTMCell object at 0x7f28d0dc3ac0> has the same name 'LSTMCell' as a built-in Keras object. Consider renaming <class 'keras.layers.recurrent.LSTMCell'> to avoid naming conflicts when loading with `tf.keras.models.load_model`. If renaming is not possible, pass the object in the `custom_objects` parameter of the load function.\n"
     ]
    },
    {
     "name": "stdout",
     "output_type": "stream",
     "text": [
      "5\n",
      "Epoch 1/6\n",
      "3750/3750 [==============================] - 41s 10ms/step - loss: 0.1038 - accuracy: 0.9886\n",
      "Epoch 2/6\n",
      "3750/3750 [==============================] - 40s 11ms/step - loss: 1.7179e-04 - accuracy: 1.0000\n",
      "Epoch 3/6\n",
      "3750/3750 [==============================] - 41s 11ms/step - loss: 4.3082e-05 - accuracy: 1.0000\n",
      "Epoch 4/6\n",
      "3750/3750 [==============================] - 40s 11ms/step - loss: 7.3506e-06 - accuracy: 1.0000\n",
      "Epoch 5/6\n",
      "3750/3750 [==============================] - 38s 10ms/step - loss: 1.6406e-06 - accuracy: 1.0000\n",
      "Epoch 6/6\n",
      "3750/3750 [==============================] - 38s 10ms/step - loss: 1.7457e-07 - accuracy: 1.0000\n",
      "INFO:tensorflow:Assets written to: my_model/assets\n"
     ]
    },
    {
     "name": "stderr",
     "output_type": "stream",
     "text": [
      "INFO:tensorflow:Assets written to: my_model/assets\n",
      "WARNING:absl:<keras.layers.recurrent.LSTMCell object at 0x7f2866e9e040> has the same name 'LSTMCell' as a built-in Keras object. Consider renaming <class 'keras.layers.recurrent.LSTMCell'> to avoid naming conflicts when loading with `tf.keras.models.load_model`. If renaming is not possible, pass the object in the `custom_objects` parameter of the load function.\n",
      "WARNING:absl:<keras.layers.recurrent.LSTMCell object at 0x7f28e0fad3a0> has the same name 'LSTMCell' as a built-in Keras object. Consider renaming <class 'keras.layers.recurrent.LSTMCell'> to avoid naming conflicts when loading with `tf.keras.models.load_model`. If renaming is not possible, pass the object in the `custom_objects` parameter of the load function.\n"
     ]
    },
    {
     "name": "stdout",
     "output_type": "stream",
     "text": [
      "6\n",
      "Epoch 1/6\n",
      "3750/3750 [==============================] - 39s 10ms/step - loss: 0.1570 - accuracy: 0.9840\n",
      "Epoch 2/6\n",
      "3750/3750 [==============================] - 38s 10ms/step - loss: 5.5529e-05 - accuracy: 1.0000\n",
      "Epoch 3/6\n",
      "3750/3750 [==============================] - 37s 10ms/step - loss: 2.0674e-05 - accuracy: 1.0000\n",
      "Epoch 4/6\n",
      "3750/3750 [==============================] - 37s 10ms/step - loss: 1.8520e-05 - accuracy: 1.0000\n",
      "Epoch 5/6\n",
      "3750/3750 [==============================] - 37s 10ms/step - loss: 4.5687e-07 - accuracy: 1.0000\n",
      "Epoch 6/6\n",
      "3750/3750 [==============================] - 37s 10ms/step - loss: 1.4575e-07 - accuracy: 1.0000\n",
      "INFO:tensorflow:Assets written to: my_model/assets\n"
     ]
    },
    {
     "name": "stderr",
     "output_type": "stream",
     "text": [
      "INFO:tensorflow:Assets written to: my_model/assets\n",
      "WARNING:absl:<keras.layers.recurrent.LSTMCell object at 0x7f286632a760> has the same name 'LSTMCell' as a built-in Keras object. Consider renaming <class 'keras.layers.recurrent.LSTMCell'> to avoid naming conflicts when loading with `tf.keras.models.load_model`. If renaming is not possible, pass the object in the `custom_objects` parameter of the load function.\n",
      "WARNING:absl:<keras.layers.recurrent.LSTMCell object at 0x7f2865e45220> has the same name 'LSTMCell' as a built-in Keras object. Consider renaming <class 'keras.layers.recurrent.LSTMCell'> to avoid naming conflicts when loading with `tf.keras.models.load_model`. If renaming is not possible, pass the object in the `custom_objects` parameter of the load function.\n"
     ]
    },
    {
     "name": "stdout",
     "output_type": "stream",
     "text": [
      "7\n",
      "Epoch 1/6\n",
      "3750/3750 [==============================] - 39s 10ms/step - loss: 0.1708 - accuracy: 0.9796\n",
      "Epoch 2/6\n",
      "3750/3750 [==============================] - 37s 10ms/step - loss: 1.5963e-04 - accuracy: 1.0000\n",
      "Epoch 3/6\n",
      "3750/3750 [==============================] - 38s 10ms/step - loss: 1.8532e-05 - accuracy: 1.0000\n",
      "Epoch 4/6\n",
      "3750/3750 [==============================] - 41s 11ms/step - loss: 2.7863e-06 - accuracy: 1.0000\n",
      "Epoch 5/6\n",
      "3750/3750 [==============================] - 41s 11ms/step - loss: 2.3736e-05 - accuracy: 1.0000\n",
      "Epoch 6/6\n",
      "3750/3750 [==============================] - 41s 11ms/step - loss: 4.7714e-07 - accuracy: 1.0000\n",
      "INFO:tensorflow:Assets written to: my_model/assets\n"
     ]
    },
    {
     "name": "stderr",
     "output_type": "stream",
     "text": [
      "INFO:tensorflow:Assets written to: my_model/assets\n",
      "WARNING:absl:<keras.layers.recurrent.LSTMCell object at 0x7f2865b6af70> has the same name 'LSTMCell' as a built-in Keras object. Consider renaming <class 'keras.layers.recurrent.LSTMCell'> to avoid naming conflicts when loading with `tf.keras.models.load_model`. If renaming is not possible, pass the object in the `custom_objects` parameter of the load function.\n",
      "WARNING:absl:<keras.layers.recurrent.LSTMCell object at 0x7f28bc1f58e0> has the same name 'LSTMCell' as a built-in Keras object. Consider renaming <class 'keras.layers.recurrent.LSTMCell'> to avoid naming conflicts when loading with `tf.keras.models.load_model`. If renaming is not possible, pass the object in the `custom_objects` parameter of the load function.\n"
     ]
    },
    {
     "name": "stdout",
     "output_type": "stream",
     "text": [
      "8\n",
      "Epoch 1/6\n",
      "3750/3750 [==============================] - 42s 11ms/step - loss: 0.5531 - accuracy: 0.7303\n",
      "Epoch 2/6\n",
      "3750/3750 [==============================] - 41s 11ms/step - loss: 0.4003 - accuracy: 0.7480\n",
      "Epoch 3/6\n",
      "3750/3750 [==============================] - 41s 11ms/step - loss: 0.3999 - accuracy: 0.7486\n",
      "Epoch 4/6\n",
      "3750/3750 [==============================] - 41s 11ms/step - loss: 0.3997 - accuracy: 0.7488\n",
      "Epoch 5/6\n",
      "3750/3750 [==============================] - 41s 11ms/step - loss: 0.3995 - accuracy: 0.7490\n",
      "Epoch 6/6\n",
      "3750/3750 [==============================] - 41s 11ms/step - loss: 0.3994 - accuracy: 0.7490\n",
      "INFO:tensorflow:Assets written to: my_model/assets\n"
     ]
    },
    {
     "name": "stderr",
     "output_type": "stream",
     "text": [
      "INFO:tensorflow:Assets written to: my_model/assets\n",
      "WARNING:absl:<keras.layers.recurrent.LSTMCell object at 0x7f2866ed3b50> has the same name 'LSTMCell' as a built-in Keras object. Consider renaming <class 'keras.layers.recurrent.LSTMCell'> to avoid naming conflicts when loading with `tf.keras.models.load_model`. If renaming is not possible, pass the object in the `custom_objects` parameter of the load function.\n",
      "WARNING:absl:<keras.layers.recurrent.LSTMCell object at 0x7f28d0de5490> has the same name 'LSTMCell' as a built-in Keras object. Consider renaming <class 'keras.layers.recurrent.LSTMCell'> to avoid naming conflicts when loading with `tf.keras.models.load_model`. If renaming is not possible, pass the object in the `custom_objects` parameter of the load function.\n"
     ]
    },
    {
     "name": "stdout",
     "output_type": "stream",
     "text": [
      "9\n",
      "Epoch 1/6\n",
      "3750/3750 [==============================] - 42s 11ms/step - loss: 0.2150 - accuracy: 0.9805\n",
      "Epoch 2/6\n",
      "3750/3750 [==============================] - 40s 11ms/step - loss: 6.2054e-05 - accuracy: 1.0000\n",
      "Epoch 3/6\n",
      "3750/3750 [==============================] - 41s 11ms/step - loss: 4.0765e-06 - accuracy: 1.0000\n",
      "Epoch 4/6\n",
      "3750/3750 [==============================] - 41s 11ms/step - loss: 6.0936e-06 - accuracy: 1.0000\n",
      "Epoch 5/6\n",
      "3750/3750 [==============================] - 40s 11ms/step - loss: 2.2016e-07 - accuracy: 1.0000\n",
      "Epoch 6/6\n",
      "3750/3750 [==============================] - 41s 11ms/step - loss: 4.2033e-08 - accuracy: 1.0000\n",
      "INFO:tensorflow:Assets written to: my_model/assets\n"
     ]
    },
    {
     "name": "stderr",
     "output_type": "stream",
     "text": [
      "INFO:tensorflow:Assets written to: my_model/assets\n",
      "WARNING:absl:<keras.layers.recurrent.LSTMCell object at 0x7f28669cd9d0> has the same name 'LSTMCell' as a built-in Keras object. Consider renaming <class 'keras.layers.recurrent.LSTMCell'> to avoid naming conflicts when loading with `tf.keras.models.load_model`. If renaming is not possible, pass the object in the `custom_objects` parameter of the load function.\n",
      "WARNING:absl:<keras.layers.recurrent.LSTMCell object at 0x7f28669fce20> has the same name 'LSTMCell' as a built-in Keras object. Consider renaming <class 'keras.layers.recurrent.LSTMCell'> to avoid naming conflicts when loading with `tf.keras.models.load_model`. If renaming is not possible, pass the object in the `custom_objects` parameter of the load function.\n"
     ]
    },
    {
     "name": "stdout",
     "output_type": "stream",
     "text": [
      "10\n",
      "Epoch 1/6\n",
      "3750/3750 [==============================] - 42s 11ms/step - loss: 0.5023 - accuracy: 0.8500\n",
      "Epoch 2/6\n",
      "3750/3750 [==============================] - 41s 11ms/step - loss: 0.2763 - accuracy: 0.8695\n",
      "Epoch 3/6\n",
      "3750/3750 [==============================] - 41s 11ms/step - loss: 0.2759 - accuracy: 0.8695\n",
      "Epoch 4/6\n",
      "3750/3750 [==============================] - 41s 11ms/step - loss: 0.2758 - accuracy: 0.8695\n",
      "Epoch 5/6\n",
      "3750/3750 [==============================] - 41s 11ms/step - loss: 0.2758 - accuracy: 0.8695\n",
      "Epoch 6/6\n",
      "3750/3750 [==============================] - 41s 11ms/step - loss: 0.2758 - accuracy: 0.8695\n",
      "INFO:tensorflow:Assets written to: my_model/assets\n"
     ]
    },
    {
     "name": "stderr",
     "output_type": "stream",
     "text": [
      "INFO:tensorflow:Assets written to: my_model/assets\n",
      "WARNING:absl:<keras.layers.recurrent.LSTMCell object at 0x7f28bc1c8fd0> has the same name 'LSTMCell' as a built-in Keras object. Consider renaming <class 'keras.layers.recurrent.LSTMCell'> to avoid naming conflicts when loading with `tf.keras.models.load_model`. If renaming is not possible, pass the object in the `custom_objects` parameter of the load function.\n",
      "WARNING:absl:<keras.layers.recurrent.LSTMCell object at 0x7f28664d6fa0> has the same name 'LSTMCell' as a built-in Keras object. Consider renaming <class 'keras.layers.recurrent.LSTMCell'> to avoid naming conflicts when loading with `tf.keras.models.load_model`. If renaming is not possible, pass the object in the `custom_objects` parameter of the load function.\n"
     ]
    }
   ],
   "source": [
    "#training the model through the datachunks\n",
    "i = 1\n",
    "flag = False\n",
    "for x,y,i in zip(x_label_data,y_label_data,range(10)):\n",
    "    #model.load_weights('weightsfile.h5') \n",
    "    i = i+1\n",
    "    print(i) \n",
    "    if flag == True:\n",
    "        # loading the saved model\n",
    "        model = tf.keras.models.load_model('my_model')\n",
    "    model.fit(x, y,batch_size=128, epochs=6)\n",
    "    model.save('my_model')  # creates a pb file 'my_model.pb'\n",
    "    flag = True"
   ]
  }
 ],
 "metadata": {
  "kernelspec": {
   "display_name": "Python 3 (ipykernel)",
   "language": "python",
   "name": "python3"
  },
  "language_info": {
   "codemirror_mode": {
    "name": "ipython",
    "version": 3
   },
   "file_extension": ".py",
   "mimetype": "text/x-python",
   "name": "python",
   "nbconvert_exporter": "python",
   "pygments_lexer": "ipython3",
   "version": "3.9.12"
  }
 },
 "nbformat": 4,
 "nbformat_minor": 5
}
