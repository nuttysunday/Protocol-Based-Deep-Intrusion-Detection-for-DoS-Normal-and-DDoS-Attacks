{
 "cells": [
  {
   "cell_type": "code",
   "execution_count": 14,
   "id": "98125502",
   "metadata": {},
   "outputs": [],
   "source": [
    "import pandas as pd\n",
    "import numpy as np\n",
    "from sklearn.utils import shuffle\n",
    "from sklearn.preprocessing import StandardScaler\n",
    "from sklearn.preprocessing import MinMaxScaler"
   ]
  },
  {
   "cell_type": "code",
   "execution_count": 2,
   "id": "0b37df5f",
   "metadata": {},
   "outputs": [],
   "source": [
    "df_unsw_normal = pd.read_csv('dataset/train/unsw_normal.csv')\n",
    "df_bot_dos = pd.read_csv('dataset/train/bot_iot_dos.csv')\n",
    "df_bot_ddos = pd.read_csv('dataset/train/bot_iot_ddos.csv')"
   ]
  },
  {
   "cell_type": "code",
   "execution_count": 3,
   "id": "b20a0512",
   "metadata": {},
   "outputs": [],
   "source": [
    "#ddos = 8 lakh samples\n",
    "#dos =  8 lakh samples\n",
    "#normal = 80 thousand samples"
   ]
  },
  {
   "cell_type": "code",
   "execution_count": 4,
   "id": "4bfd3ec0",
   "metadata": {},
   "outputs": [],
   "source": [
    "dataframe_list = list()\n",
    "\n",
    "def data_chunks_creater(df_unsw_normal,df_bot_dos,df_bot_ddos):\n",
    "    \n",
    "    #we are taking 10 chunks only but you can take maximum upto 20\n",
    "    number_of_chunks = 10\n",
    "    data_limit = 80000*number_of_chunks\n",
    "    \n",
    "    #chunk_start and chunk_end are used to partition chunks from the oversampled data\n",
    "    chunk_start = 0\n",
    "    chunk_end = 80000\n",
    "    \n",
    "    #iterating so the chunks could be merged\n",
    "    for _ in range(number_of_chunks):\n",
    "        \n",
    "        df_unsw_normal = df_unsw_normal\n",
    "        \n",
    "        df_bot_dos = pd.read_csv('dataset/train/bot_iot_dos.csv')\n",
    "        df_bot_dos = df_bot_dos.iloc[:data_limit]\n",
    "        df_bot_dos = df_bot_dos.iloc[chunk_start:chunk_end]\n",
    "        \n",
    "        df_bot_ddos = pd.read_csv('dataset/train/bot_iot_ddos.csv')\n",
    "        df_bot_ddos = df_bot_ddos.iloc[:data_limit]\n",
    "        df_bot_ddos = df_bot_ddos.iloc[chunk_start:chunk_end]\n",
    "        \n",
    "        #merging the data and also shuffling the data and appending the different chunks in a list, this also ensures the \n",
    "        #the data is still into chunks its well balanced and consistent\n",
    "        df = pd.concat([df_unsw_normal, df_bot_dos, df_bot_ddos], ignore_index=True, sort=False)\n",
    "        df = shuffle(df)\n",
    "        df.reset_index(drop=True,inplace=True)\n",
    "        dataframe_list.append(df)\n",
    "        \n",
    "        #updating chunk_start and chunk_end value\n",
    "        chunk_start = chunk_end\n",
    "        chunk_end = chunk_end+80000\n",
    "        \n",
    "    return dataframe_list"
   ]
  },
  {
   "cell_type": "code",
   "execution_count": 19,
   "id": "5cae2f86",
   "metadata": {},
   "outputs": [],
   "source": [
    "data = data_chunks_creater(df_unsw_normal,df_bot_dos,df_bot_ddos)"
   ]
  },
  {
   "cell_type": "code",
   "execution_count": 39,
   "id": "b38b4956",
   "metadata": {},
   "outputs": [],
   "source": [
    "class_names = ['DoS','Normal','DDoS']"
   ]
  },
  {
   "cell_type": "code",
   "execution_count": 43,
   "id": "8e2edf8a",
   "metadata": {},
   "outputs": [
    {
     "data": {
      "text/plain": [
       "Index(['spkts', 'dpkts', 'sbytes', 'dbytes', 'dur', 'proto', 'category'], dtype='object')"
      ]
     },
     "execution_count": 43,
     "metadata": {},
     "output_type": "execute_result"
    }
   ],
   "source": [
    "data[0].columns"
   ]
  },
  {
   "cell_type": "code",
   "execution_count": 45,
   "id": "c6c55731",
   "metadata": {},
   "outputs": [
    {
     "data": {
      "text/plain": [
       "DoS       80000\n",
       "Normal    80000\n",
       "DDoS      80000\n",
       "Name: category, dtype: int64"
      ]
     },
     "execution_count": 45,
     "metadata": {},
     "output_type": "execute_result"
    }
   ],
   "source": [
    "data[0].category.value_counts()"
   ]
  },
  {
   "cell_type": "code",
   "execution_count": null,
   "id": "3dc42a26",
   "metadata": {},
   "outputs": [],
   "source": []
  },
  {
   "cell_type": "code",
   "execution_count": 34,
   "id": "cb88d5ba",
   "metadata": {},
   "outputs": [],
   "source": [
    "#A function which takes the big_data, but iterates through chunks, seperates x and y label and normalizes data using minmax\n",
    "#the normalisation is done chunck wise and not for the full data\n",
    "def data_preprocessing(data):\n",
    "    x_label_data = list()\n",
    "    y_label_data = list()\n",
    "    for subset_data in data:\n",
    "        df = subset_data\n",
    "        x = df.loc[:, df.columns != 'category']\n",
    "        #min_max\n",
    "        x=(x-x.min())/(x.max()-x.min())\n",
    "        y = df['category']\n",
    "        x_label_data.append(x)\n",
    "        y_label_data.append(y)\n",
    "    return x_label_data,y_label_data"
   ]
  },
  {
   "cell_type": "code",
   "execution_count": 35,
   "id": "5f2d6251",
   "metadata": {},
   "outputs": [],
   "source": [
    "x_label_data,y_label_data = data_preprocessing(data)"
   ]
  },
  {
   "cell_type": "code",
   "execution_count": 36,
   "id": "d1a52e55",
   "metadata": {},
   "outputs": [
    {
     "data": {
      "text/html": [
       "<div>\n",
       "<style scoped>\n",
       "    .dataframe tbody tr th:only-of-type {\n",
       "        vertical-align: middle;\n",
       "    }\n",
       "\n",
       "    .dataframe tbody tr th {\n",
       "        vertical-align: top;\n",
       "    }\n",
       "\n",
       "    .dataframe thead th {\n",
       "        text-align: right;\n",
       "    }\n",
       "</style>\n",
       "<table border=\"1\" class=\"dataframe\">\n",
       "  <thead>\n",
       "    <tr style=\"text-align: right;\">\n",
       "      <th></th>\n",
       "      <th>spkts</th>\n",
       "      <th>dpkts</th>\n",
       "      <th>sbytes</th>\n",
       "      <th>dbytes</th>\n",
       "      <th>dur</th>\n",
       "      <th>proto</th>\n",
       "    </tr>\n",
       "  </thead>\n",
       "  <tbody>\n",
       "    <tr>\n",
       "      <th>0</th>\n",
       "      <td>0.004354</td>\n",
       "      <td>0.000583</td>\n",
       "      <td>0.001652</td>\n",
       "      <td>0.000027</td>\n",
       "      <td>0.253006</td>\n",
       "      <td>1.0</td>\n",
       "    </tr>\n",
       "    <tr>\n",
       "      <th>1</th>\n",
       "      <td>0.021771</td>\n",
       "      <td>0.010490</td>\n",
       "      <td>0.004377</td>\n",
       "      <td>0.000731</td>\n",
       "      <td>0.000121</td>\n",
       "      <td>1.0</td>\n",
       "    </tr>\n",
       "    <tr>\n",
       "      <th>2</th>\n",
       "      <td>0.033382</td>\n",
       "      <td>0.008159</td>\n",
       "      <td>0.051380</td>\n",
       "      <td>0.000341</td>\n",
       "      <td>0.014339</td>\n",
       "      <td>1.0</td>\n",
       "    </tr>\n",
       "    <tr>\n",
       "      <th>3</th>\n",
       "      <td>0.001451</td>\n",
       "      <td>0.000000</td>\n",
       "      <td>0.000743</td>\n",
       "      <td>0.000000</td>\n",
       "      <td>0.093227</td>\n",
       "      <td>1.0</td>\n",
       "    </tr>\n",
       "    <tr>\n",
       "      <th>4</th>\n",
       "      <td>0.001451</td>\n",
       "      <td>0.000000</td>\n",
       "      <td>0.000743</td>\n",
       "      <td>0.000000</td>\n",
       "      <td>0.103712</td>\n",
       "      <td>1.0</td>\n",
       "    </tr>\n",
       "    <tr>\n",
       "      <th>...</th>\n",
       "      <td>...</td>\n",
       "      <td>...</td>\n",
       "      <td>...</td>\n",
       "      <td>...</td>\n",
       "      <td>...</td>\n",
       "      <td>...</td>\n",
       "    </tr>\n",
       "    <tr>\n",
       "      <th>239995</th>\n",
       "      <td>0.001451</td>\n",
       "      <td>0.001166</td>\n",
       "      <td>0.000218</td>\n",
       "      <td>0.000072</td>\n",
       "      <td>0.000009</td>\n",
       "      <td>0.0</td>\n",
       "    </tr>\n",
       "    <tr>\n",
       "      <th>239996</th>\n",
       "      <td>0.002903</td>\n",
       "      <td>0.000583</td>\n",
       "      <td>0.000920</td>\n",
       "      <td>0.000027</td>\n",
       "      <td>0.080513</td>\n",
       "      <td>1.0</td>\n",
       "    </tr>\n",
       "    <tr>\n",
       "      <th>239997</th>\n",
       "      <td>0.005806</td>\n",
       "      <td>0.000000</td>\n",
       "      <td>0.002106</td>\n",
       "      <td>0.000000</td>\n",
       "      <td>0.269298</td>\n",
       "      <td>1.0</td>\n",
       "    </tr>\n",
       "    <tr>\n",
       "      <th>239998</th>\n",
       "      <td>0.005806</td>\n",
       "      <td>0.001166</td>\n",
       "      <td>0.002106</td>\n",
       "      <td>0.000053</td>\n",
       "      <td>0.277593</td>\n",
       "      <td>1.0</td>\n",
       "    </tr>\n",
       "    <tr>\n",
       "      <th>239999</th>\n",
       "      <td>0.001451</td>\n",
       "      <td>0.000000</td>\n",
       "      <td>0.000743</td>\n",
       "      <td>0.000000</td>\n",
       "      <td>0.089603</td>\n",
       "      <td>1.0</td>\n",
       "    </tr>\n",
       "  </tbody>\n",
       "</table>\n",
       "<p>240000 rows × 6 columns</p>\n",
       "</div>"
      ],
      "text/plain": [
       "           spkts     dpkts    sbytes    dbytes       dur  proto\n",
       "0       0.004354  0.000583  0.001652  0.000027  0.253006    1.0\n",
       "1       0.021771  0.010490  0.004377  0.000731  0.000121    1.0\n",
       "2       0.033382  0.008159  0.051380  0.000341  0.014339    1.0\n",
       "3       0.001451  0.000000  0.000743  0.000000  0.093227    1.0\n",
       "4       0.001451  0.000000  0.000743  0.000000  0.103712    1.0\n",
       "...          ...       ...       ...       ...       ...    ...\n",
       "239995  0.001451  0.001166  0.000218  0.000072  0.000009    0.0\n",
       "239996  0.002903  0.000583  0.000920  0.000027  0.080513    1.0\n",
       "239997  0.005806  0.000000  0.002106  0.000000  0.269298    1.0\n",
       "239998  0.005806  0.001166  0.002106  0.000053  0.277593    1.0\n",
       "239999  0.001451  0.000000  0.000743  0.000000  0.089603    1.0\n",
       "\n",
       "[240000 rows x 6 columns]"
      ]
     },
     "execution_count": 36,
     "metadata": {},
     "output_type": "execute_result"
    }
   ],
   "source": [
    "x_label_data[0]"
   ]
  },
  {
   "cell_type": "code",
   "execution_count": 38,
   "id": "ccba33d5",
   "metadata": {},
   "outputs": [
    {
     "data": {
      "text/plain": [
       "0            DoS\n",
       "1         Normal\n",
       "2         Normal\n",
       "3           DDoS\n",
       "4           DDoS\n",
       "           ...  \n",
       "239995    Normal\n",
       "239996      DDoS\n",
       "239997       DoS\n",
       "239998       DoS\n",
       "239999      DDoS\n",
       "Name: category, Length: 240000, dtype: object"
      ]
     },
     "execution_count": 38,
     "metadata": {},
     "output_type": "execute_result"
    }
   ],
   "source": [
    "y_label_data[0]"
   ]
  },
  {
   "cell_type": "code",
   "execution_count": null,
   "id": "f725ebd6",
   "metadata": {},
   "outputs": [],
   "source": []
  },
  {
   "cell_type": "code",
   "execution_count": null,
   "id": "e3272bb0",
   "metadata": {},
   "outputs": [],
   "source": []
  },
  {
   "cell_type": "code",
   "execution_count": null,
   "id": "be5e4001",
   "metadata": {},
   "outputs": [],
   "source": []
  }
 ],
 "metadata": {
  "kernelspec": {
   "display_name": "Python 3 (ipykernel)",
   "language": "python",
   "name": "python3"
  },
  "language_info": {
   "codemirror_mode": {
    "name": "ipython",
    "version": 3
   },
   "file_extension": ".py",
   "mimetype": "text/x-python",
   "name": "python",
   "nbconvert_exporter": "python",
   "pygments_lexer": "ipython3",
   "version": "3.9.7"
  }
 },
 "nbformat": 4,
 "nbformat_minor": 5
}
